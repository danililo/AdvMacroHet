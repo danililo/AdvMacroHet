{
 "cells": [
  {
   "cell_type": "markdown",
   "metadata": {},
   "source": [
    "# HANC with government and no capital"
   ]
  },
  {
   "cell_type": "markdown",
   "metadata": {},
   "source": [
    "**Table of contents**<a id='toc0_'></a>    \n",
    "- 1. [Setup](#toc1_)    \n",
    "- 2. [Exercises](#toc2_)    \n",
    "\n",
    "<!-- vscode-jupyter-toc-config\n",
    "\tnumbering=true\n",
    "\tanchor=true\n",
    "\tflat=false\n",
    "\tminLevel=2\n",
    "\tmaxLevel=6\n",
    "\t/vscode-jupyter-toc-config -->\n",
    "<!-- THIS CELL WILL BE REPLACED ON TOC UPDATE. DO NOT WRITE YOUR TEXT IN THIS CELL -->"
   ]
  },
  {
   "cell_type": "code",
   "execution_count": 2,
   "metadata": {},
   "outputs": [
    {
     "name": "stdout",
     "output_type": "stream",
     "text": [
      "The autoreload extension is already loaded. To reload it, use:\n",
      "  %reload_ext autoreload\n"
     ]
    }
   ],
   "source": [
    "%load_ext autoreload\n",
    "%autoreload 2\n",
    "\n",
    "import time\n",
    "import pickle\n",
    "import numpy as np\n",
    "from scipy import optimize\n",
    "\n",
    "import matplotlib.pyplot as plt   \n",
    "colors = plt.rcParams['axes.prop_cycle'].by_key()['color']\n",
    "plt.rcParams.update({\"axes.grid\" : True, \"grid.color\": \"black\", \"grid.alpha\":\"0.25\", \"grid.linestyle\": \"--\"})\n",
    "plt.rcParams.update({'font.size': 14})\n",
    "\n",
    "from HANCGovModel import HANCGovModelClass"
   ]
  },
  {
   "cell_type": "markdown",
   "metadata": {},
   "source": [
    "## 1. <a id='toc1_'></a>[Setup](#toc0_)"
   ]
  },
  {
   "cell_type": "code",
   "execution_count": 22,
   "metadata": {},
   "outputs": [],
   "source": [
    "model = HANCGovModelClass(name='baseline')"
   ]
  },
  {
   "cell_type": "code",
   "execution_count": 24,
   "metadata": {},
   "outputs": [],
   "source": [
    "par = model.par\n",
    "ss = model.ss"
   ]
  },
  {
   "cell_type": "markdown",
   "metadata": {},
   "source": [
    "## 2. <a id='toc2_'></a>[Exercises](#toc0_)"
   ]
  },
  {
   "cell_type": "code",
   "execution_count": 25,
   "metadata": {},
   "outputs": [
    {
     "name": "stdout",
     "output_type": "stream",
     "text": [
      "household problem in ss solved in 0.1 secs [559 iterations]\n"
     ]
    }
   ],
   "source": [
    "ss.pB = 0.975\n",
    "ss.tau = 0.12\n",
    "\n",
    "model.solve_hh_ss(do_print=True)"
   ]
  },
  {
   "cell_type": "code",
   "execution_count": 26,
   "metadata": {},
   "outputs": [
    {
     "name": "stdout",
     "output_type": "stream",
     "text": [
      "household problem in ss simulated in 0.1 secs [657 iterations]\n"
     ]
    }
   ],
   "source": [
    "model.simulate_hh_ss(do_print=True)"
   ]
  },
  {
   "cell_type": "code",
   "execution_count": 29,
   "metadata": {},
   "outputs": [],
   "source": [
    "ss.G = 0.1"
   ]
  },
  {
   "cell_type": "code",
   "execution_count": 46,
   "metadata": {},
   "outputs": [
    {
     "name": "stdout",
     "output_type": "stream",
     "text": [
      "\n",
      "\n",
      "tau            : 0.1100\n",
      "G              : 0.1000\n",
      "pB             : 0.9828\n",
      "B              : 0.5804\n",
      "A_hh           : 0.5804\n",
      "C_hh           : 0.9000\n",
      "U_hh           : -1.2078\n",
      "clearing_B     : 0.0000\n",
      "\n",
      "\n",
      "tau            : 0.1144\n",
      "G              : 0.1000\n",
      "pB             : 0.9805\n",
      "B              : 0.7395\n",
      "A_hh           : 0.7395\n",
      "C_hh           : 0.9000\n",
      "U_hh           : -1.2072\n",
      "clearing_B     : -0.0000\n",
      "\n",
      "\n",
      "tau            : 0.1189\n",
      "G              : 0.1000\n",
      "pB             : 0.9788\n",
      "B              : 0.8895\n",
      "A_hh           : 0.8895\n",
      "C_hh           : 0.9000\n",
      "U_hh           : -1.2068\n",
      "clearing_B     : 0.0000\n",
      "\n",
      "\n",
      "tau            : 0.1233\n",
      "G              : 0.1000\n",
      "pB             : 0.9774\n",
      "B              : 1.0332\n",
      "A_hh           : 1.0332\n",
      "C_hh           : 0.9000\n",
      "U_hh           : -1.2066\n",
      "clearing_B     : 0.0000\n",
      "\n",
      "\n",
      "tau            : 0.1278\n",
      "G              : 0.1000\n",
      "pB             : 0.9763\n",
      "B              : 1.1723\n",
      "A_hh           : 1.1723\n",
      "C_hh           : 0.9000\n",
      "U_hh           : -1.2065\n",
      "clearing_B     : -0.0000\n",
      "\n",
      "\n",
      "tau            : 0.1322\n",
      "G              : 0.1000\n",
      "pB             : 0.9754\n",
      "B              : 1.3078\n",
      "A_hh           : 1.3078\n",
      "C_hh           : 0.9000\n",
      "U_hh           : -1.2065\n",
      "clearing_B     : -0.0000\n",
      "\n",
      "\n",
      "tau            : 0.1367\n",
      "G              : 0.1000\n",
      "pB             : 0.9745\n",
      "B              : 1.4404\n",
      "A_hh           : 1.4404\n",
      "C_hh           : 0.9000\n",
      "U_hh           : -1.2066\n",
      "clearing_B     : 0.0000\n",
      "\n",
      "\n",
      "tau            : 0.1411\n",
      "G              : 0.1000\n",
      "pB             : 0.9738\n",
      "B              : 1.5707\n",
      "A_hh           : 1.5707\n",
      "C_hh           : 0.9000\n",
      "U_hh           : -1.2068\n",
      "clearing_B     : 0.0000\n",
      "\n",
      "\n",
      "tau            : 0.1456\n",
      "G              : 0.1000\n",
      "pB             : 0.9732\n",
      "B              : 1.6989\n",
      "A_hh           : 1.6989\n",
      "C_hh           : 0.9000\n",
      "U_hh           : -1.2070\n",
      "clearing_B     : 0.0000\n",
      "\n",
      "\n",
      "tau            : 0.1500\n",
      "G              : 0.1000\n",
      "pB             : 0.9726\n",
      "B              : 1.8254\n",
      "A_hh           : 1.8254\n",
      "C_hh           : 0.9000\n",
      "U_hh           : -1.2073\n",
      "clearing_B     : -0.0000\n"
     ]
    }
   ],
   "source": [
    "for tau in np.linspace(0.11, 0.15, 10):\n",
    "    print(f'\\n')\n",
    "    ss.tau = tau\n",
    "    model.solve_hh_ss()\n",
    "    model.simulate_hh_ss()\n",
    "    model.find_ss(tau = ss.tau)\n",
    "    for varname in model.varlist:\n",
    "        print(f'{varname:15s}: {ss.__dict__[varname]:.4f}')"
   ]
  }
 ],
 "metadata": {
  "kernelspec": {
   "display_name": "base",
   "language": "python",
   "name": "python3"
  },
  "language_info": {
   "codemirror_mode": {
    "name": "ipython",
    "version": 3
   },
   "file_extension": ".py",
   "mimetype": "text/x-python",
   "name": "python",
   "nbconvert_exporter": "python",
   "pygments_lexer": "ipython3",
   "version": "3.11.7"
  },
  "toc-autonumbering": true
 },
 "nbformat": 4,
 "nbformat_minor": 4
}
